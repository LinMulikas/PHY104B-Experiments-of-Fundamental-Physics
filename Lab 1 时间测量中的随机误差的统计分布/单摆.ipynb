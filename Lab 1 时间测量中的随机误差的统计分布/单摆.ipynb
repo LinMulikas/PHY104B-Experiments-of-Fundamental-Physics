{
 "cells": [
  {
   "cell_type": "code",
   "execution_count": 2,
   "metadata": {},
   "outputs": [],
   "source": [
    "import pandas as pd\n",
    "import numpy as np"
   ]
  },
  {
   "cell_type": "markdown",
   "metadata": {},
   "source": [
    "## 单摆设计\n",
    "\n",
    "- 摆长\n",
    "- 球径\n",
    "- "
   ]
  },
  {
   "cell_type": "code",
   "execution_count": 3,
   "metadata": {},
   "outputs": [
    {
     "name": "stdout",
     "output_type": "stream",
     "text": [
      "G is: 9.839679\n",
      "The relative error is 0.0052%\n"
     ]
    }
   ],
   "source": [
    "def calculate_G(L: float, D: float, N: float, time: float):\n",
    "    T = time/N\n",
    "    R = D/2\n",
    "    _L = L + R\n",
    "    return (4 * L * np.pi * np.pi)/(T * T)\n",
    "\n",
    "def calculate_G(l: float, r: float, T: float):\n",
    "    return 4 * np.pi * np.pi * (l + r)/(T * T)\n",
    "\n",
    "ls = [75.7, 75.71, 75.72, 75.75, 75.72, 75.78]\n",
    "\n",
    "Ds = [20.04, 20.04, 20.04, 20.04, 20.04, 20.06]\n",
    "\n",
    "times = [87.72, 87.62, 87.75, 87.69, 87.88, 87.72]\n",
    "\n",
    "l = np.mean(ls)/100\n",
    "r = np.mean(Ds)/2000\n",
    "T = np.mean(times)/50\n",
    "\n",
    "g = calculate_G(l, r, T)\n",
    "\n",
    "print(\"G is: {:.6f}\".format(g))\n",
    "print(\"The relative error is {:.4f}%\".format(np.abs((g - 9.7887)/(9.7887))))"
   ]
  },
  {
   "cell_type": "code",
   "execution_count": 4,
   "metadata": {},
   "outputs": [
    {
     "data": {
      "text/plain": [
       "(87.73, 75.73)"
      ]
     },
     "execution_count": 4,
     "metadata": {},
     "output_type": "execute_result"
    }
   ],
   "source": [
    "np.mean(times), np.mean(ls)"
   ]
  },
  {
   "cell_type": "code",
   "execution_count": 12,
   "metadata": {},
   "outputs": [
    {
     "data": {
      "text/plain": [
       "(0.03197221015541721, 0.00011055415967851633)"
      ]
     },
     "execution_count": 12,
     "metadata": {},
     "output_type": "execute_result"
    }
   ],
   "source": [
    "u_A_t = np.std(times)/np.sqrt(6)\n",
    "u_A_l = np.std(ls)/np.sqrt(6) * 1e-2\n",
    "u_A_t, u_A_l"
   ]
  },
  {
   "cell_type": "code",
   "execution_count": 14,
   "metadata": {},
   "outputs": [
    {
     "data": {
      "text/plain": [
       "(0.11561430130683084, 0.0005446711546122731)"
      ]
     },
     "execution_count": 14,
     "metadata": {},
     "output_type": "execute_result"
    }
   ],
   "source": [
    "u_B_t = np.sqrt(np.power(0.01/np.sqrt(3), 2) + np.power(0.2/np.sqrt(3), 2))\n",
    "u_B_l = np.sqrt(np.power(0.8/np.sqrt(3), 2) + np.power(0.5/np.sqrt(3), 2)) * 1e-3\n",
    "u_B_t, u_B_l"
   ]
  },
  {
   "cell_type": "code",
   "execution_count": 15,
   "metadata": {},
   "outputs": [
    {
     "data": {
      "text/plain": [
       "0.11995498229660043"
      ]
     },
     "execution_count": 15,
     "metadata": {},
     "output_type": "execute_result"
    }
   ],
   "source": [
    "np.sqrt(np.power(u_A_l, 2) + np.power(u_A_t, 2) + np.power(u_B_l, 2) + np.power(u_B_t, 2))"
   ]
  }
 ],
 "metadata": {
  "kernelspec": {
   "display_name": "py3.11",
   "language": "python",
   "name": "python3"
  },
  "language_info": {
   "codemirror_mode": {
    "name": "ipython",
    "version": 3
   },
   "file_extension": ".py",
   "mimetype": "text/x-python",
   "name": "python",
   "nbconvert_exporter": "python",
   "pygments_lexer": "ipython3",
   "version": "3.11.4"
  },
  "orig_nbformat": 4
 },
 "nbformat": 4,
 "nbformat_minor": 2
}
