{
 "cells": [
  {
   "cell_type": "code",
   "execution_count": 1,
   "metadata": {},
   "outputs": [],
   "source": [
    "import numpy as np\n",
    "import matplotlib.pyplot as plt\n",
    "\n",
    "plt.rcParams['font.sans-serif'] = ['Arial Unicode MS']\n",
    "plt.rcParams['font.size'] = '14'"
   ]
  },
  {
   "cell_type": "code",
   "execution_count": 37,
   "metadata": {},
   "outputs": [
    {
     "data": {
      "text/plain": [
       "(array([[30. ],\n",
       "        [32.5],\n",
       "        [35. ],\n",
       "        [37.5],\n",
       "        [40. ],\n",
       "        [42.5],\n",
       "        [45. ],\n",
       "        [47.5],\n",
       "        [50. ],\n",
       "        [52.5],\n",
       "        [55. ],\n",
       "        [57.5],\n",
       "        [60. ],\n",
       "        [62.5],\n",
       "        [65. ],\n",
       "        [67.5],\n",
       "        [70. ]]),\n",
       " array([3991. , 3649. , 3337. , 3060. , 2806.5, 2578.5, 2367.5, 2181. ,\n",
       "        2011.5, 1854. , 1705.5, 1583.5, 1462.5, 1352.5, 1255. , 1168. ,\n",
       "        1084. ]))"
      ]
     },
     "execution_count": 37,
     "metadata": {},
     "output_type": "execute_result"
    }
   ],
   "source": [
    "Ts = np.arange(30, 72.5, 2.5).reshape((-1, 1))\n",
    "Rs = np.mean(np.array([\n",
    "    [3989, 3646, 3335, 3054, 2802, 2575, 2363, 2180, 2007, 1848, 1710, 1585, 1459, 1352, 1255, 1167, 1084],\n",
    "    [3998, 3658, 3343, 3066, 2811, 2582, 2372, 2182, 2016, 1860, 1701, 1582, 1466, 1353, 1255, 1169, 1084]]), \n",
    "             axis=0)\n",
    "Ts, Rs"
   ]
  },
  {
   "cell_type": "code",
   "execution_count": 31,
   "metadata": {},
   "outputs": [
    {
     "data": {
      "text/plain": [
       "(-3628.71851847143, -4.141957420047068)"
      ]
     },
     "execution_count": 31,
     "metadata": {},
     "output_type": "execute_result"
    }
   ],
   "source": [
    "from sklearn.linear_model import LinearRegression\n",
    "model = LinearRegression()\n",
    "model.fit(-(1/Ts), np.log(Rs))\n",
    "K = model.coef_[0]\n",
    "C = model.intercept_"
   ]
  },
  {
   "cell_type": "code",
   "execution_count": 33,
   "metadata": {},
   "outputs": [],
   "source": [
    "def R_T(T):\n",
    "    return -np.power(np.e, C) * K * (1/np.power(T, 2)) * np.exp(K/T)"
   ]
  },
  {
   "cell_type": "code",
   "execution_count": null,
   "metadata": {},
   "outputs": [],
   "source": []
  }
 ],
 "metadata": {
  "kernelspec": {
   "display_name": "py3.11",
   "language": "python",
   "name": "python3"
  },
  "language_info": {
   "codemirror_mode": {
    "name": "ipython",
    "version": 3
   },
   "file_extension": ".py",
   "mimetype": "text/x-python",
   "name": "python",
   "nbconvert_exporter": "python",
   "pygments_lexer": "ipython3",
   "version": "3.11.4"
  }
 },
 "nbformat": 4,
 "nbformat_minor": 2
}
