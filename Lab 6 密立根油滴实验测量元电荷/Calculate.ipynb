{
 "cells": [
  {
   "cell_type": "code",
   "execution_count": null,
   "metadata": {},
   "outputs": [],
   "source": [
    "import numpy as np"
   ]
  },
  {
   "cell_type": "code",
   "execution_count": null,
   "metadata": {},
   "outputs": [],
   "source": [
    "q = (1.431e-14/U) * np.power((1 + 0.0196 * np.sqrt(tf)) * tf, -1.5)\n",
    "u1 = 189\n",
    "t1s = [45.69, 43.67, 45.41]\n",
    "u2 = 262\n",
    "t2s = [12.67, 12.61, 12.60]\n",
    "u3 = 251\n",
    "t3s = [24.94, 24.88, 24.94]\n",
    "u4 = 277\n",
    "t4s = [12.66, 12.67, 12.60]\n",
    "u5 = 232\n",
    "t5s = [12.59, 12.30, 12.68]\n",
    "\n",
    "ts = [t1s, t2s, t3s, t4s, t5s]\n",
    "for _ts in ts:\n",
    "    print(np.round(np.mean(_ts), 2))"
   ]
  }
 ],
 "metadata": {
  "language_info": {
   "name": "python"
  }
 },
 "nbformat": 4,
 "nbformat_minor": 2
}
