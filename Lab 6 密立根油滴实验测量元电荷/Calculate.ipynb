{
 "cells": [
  {
   "cell_type": "code",
   "execution_count": 1,
   "metadata": {},
   "outputs": [],
   "source": [
    "import numpy as np"
   ]
  },
  {
   "cell_type": "code",
   "execution_count": 2,
   "metadata": {},
   "outputs": [
    {
     "name": "stdout",
     "output_type": "stream",
     "text": [
      "44.92\n",
      "12.63\n",
      "24.92\n",
      "12.64\n",
      "12.52\n"
     ]
    },
    {
     "data": {
      "text/plain": [
       "([189, 262, 251, 277, 232],\n",
       " [44.923333333333325,\n",
       "  12.626666666666667,\n",
       "  24.92,\n",
       "  12.643333333333333,\n",
       "  12.523333333333333])"
      ]
     },
     "execution_count": 2,
     "metadata": {},
     "output_type": "execute_result"
    }
   ],
   "source": [
    "u1 = 189\n",
    "t1s = [45.69, 43.67, 45.41]\n",
    "u2 = 262\n",
    "t2s = [12.67, 12.61, 12.60]\n",
    "u3 = 251\n",
    "t3s = [24.94, 24.88, 24.94]\n",
    "u4 = 277\n",
    "t4s = [12.66, 12.67, 12.60]\n",
    "u5 = 232\n",
    "t5s = [12.59, 12.30, 12.68]\n",
    "\n",
    "ts = [t1s, t2s, t3s, t4s, t5s]\n",
    "us = [u1, u2, u3, u4, u5]\n",
    "t_mean = []\n",
    "for _ts in ts:\n",
    "    t_mean.append(np.mean(_ts))\n",
    "    print(np.round(np.mean(_ts), 2))\n",
    "\n",
    "us, t_mean"
   ]
  },
  {
   "cell_type": "code",
   "execution_count": 3,
   "metadata": {},
   "outputs": [],
   "source": [
    "def calQ(tg, U):\n",
    "    return 1.022e-14 / (U * np.power(\n",
    "                                (1 + 0.02193 * np.sqrt(tg))*tg, \n",
    "                                1.5))"
   ]
  },
  {
   "cell_type": "code",
   "execution_count": 8,
   "metadata": {},
   "outputs": [
    {
     "data": {
      "text/plain": [
       "[1.4619893728005242e-19,\n",
       " 7.768426200259268e-19,\n",
       " 2.800781165583341e-19,\n",
       " 7.332704566129545e-19,\n",
       " 8.88572037721006e-19]"
      ]
     },
     "execution_count": 8,
     "metadata": {},
     "output_type": "execute_result"
    }
   ],
   "source": [
    "qs = []\n",
    "for i in range(5):\n",
    "    qs.append(calQ(t_mean[i], us[i]))\n",
    "\n",
    "qs"
   ]
  },
  {
   "cell_type": "code",
   "execution_count": 11,
   "metadata": {},
   "outputs": [
    {
     "data": {
      "text/plain": [
       "1.4727119010143267e-19"
      ]
     },
     "execution_count": 11,
     "metadata": {},
     "output_type": "execute_result"
    }
   ],
   "source": [
    "es = [qs[0], qs[1]/5, qs[2]/2, qs[3]/5, qs[4]/6]\n",
    "e_mean = np.mean(es)\n",
    "e_mean"
   ]
  },
  {
   "cell_type": "code",
   "execution_count": 13,
   "metadata": {},
   "outputs": [
    {
     "data": {
      "text/plain": [
       "0.08070418163899719"
      ]
     },
     "execution_count": 13,
     "metadata": {},
     "output_type": "execute_result"
    }
   ],
   "source": [
    "np.abs((e_mean * 1e19 - 1.602)/1.602)"
   ]
  }
 ],
 "metadata": {
  "kernelspec": {
   "display_name": "py3.11",
   "language": "python",
   "name": "python3"
  },
  "language_info": {
   "codemirror_mode": {
    "name": "ipython",
    "version": 3
   },
   "file_extension": ".py",
   "mimetype": "text/x-python",
   "name": "python",
   "nbconvert_exporter": "python",
   "pygments_lexer": "ipython3",
   "version": "3.11.4"
  }
 },
 "nbformat": 4,
 "nbformat_minor": 2
}
